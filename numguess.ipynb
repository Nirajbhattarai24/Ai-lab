{
  "nbformat": 4,
  "nbformat_minor": 0,
  "metadata": {
    "colab": {
      "provenance": []
    },
    "kernelspec": {
      "name": "python3",
      "display_name": "Python 3"
    },
    "language_info": {
      "name": "python"
    }
  },
  "cells": [
    {
      "cell_type": "code",
      "execution_count": 2,
      "metadata": {
        "colab": {
          "base_uri": "https://localhost:8080/"
        },
        "id": "gALdhK-0nHYL",
        "outputId": "7b185628-ca95-49ee-f3a0-479147866ecb"
      },
      "outputs": [
        {
          "output_type": "stream",
          "name": "stdout",
          "text": [
            "Guess a number between 1-100\n",
            "Enter your guess: 50\n",
            "Higher than 50 \n",
            "Enter your guess: 70\n",
            "Lower than 70 \n",
            "Enter your guess: 65\n",
            "Lower than 65 \n",
            "Enter your guess: 60\n",
            "Higher than 60 \n",
            "Enter your guess: 61\n",
            "You guessed the correct number 61\n"
          ]
        }
      ],
      "source": [
        "import random\n",
        "\n",
        "def guessgame():\n",
        "    generated = random.randint(1, 100)\n",
        "\n",
        "    print(\"Guess a number between 1-100\")\n",
        "\n",
        "\n",
        "    while True:\n",
        "        guess = int(input(\"Enter your guess: \"))\n",
        "\n",
        "\n",
        "        if guess == generated:\n",
        "            print(f\"You guessed the correct number {generated}\")\n",
        "            break\n",
        "        elif guess < generated:\n",
        "            print(f\"Higher than {guess} \")\n",
        "        else:\n",
        "            print(f\"Lower than {guess} \")\n",
        "\n",
        "guessgame()\n"
      ]
    }
  ]
}