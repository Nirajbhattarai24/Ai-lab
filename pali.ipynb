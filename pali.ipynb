{
  "nbformat": 4,
  "nbformat_minor": 0,
  "metadata": {
    "colab": {
      "provenance": []
    },
    "kernelspec": {
      "name": "python3",
      "display_name": "Python 3"
    },
    "language_info": {
      "name": "python"
    }
  },
  "cells": [
    {
      "cell_type": "code",
      "execution_count": 6,
      "metadata": {
        "colab": {
          "base_uri": "https://localhost:8080/"
        },
        "id": "gALdhK-0nHYL",
        "outputId": "4327164d-dd1f-41f4-8276-9bafd6c1475b"
      },
      "outputs": [
        {
          "output_type": "stream",
          "name": "stdout",
          "text": [
            "Enter a number:121\n",
            "121 is a palindrome number.\n"
          ]
        }
      ],
      "source": [
        "def pali(num):\n",
        "    original = num\n",
        "    reverse = 0\n",
        "\n",
        "    while num > 0:\n",
        "        digit = num % 10\n",
        "        reverse = reverse * 10 + digit\n",
        "        num = num // 10\n",
        "    return original == reverse\n",
        "number=int(input(\"Enter a number:\"))\n",
        "\n",
        "if pali(number):\n",
        "    print(f\"{number} is a palindrome number.\")\n",
        "else:\n",
        "    print(f\"{number} is not a palindrome number.\")\n"
      ]
    }
  ]
}