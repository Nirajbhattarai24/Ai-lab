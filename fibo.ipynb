{
  "nbformat": 4,
  "nbformat_minor": 0,
  "metadata": {
    "colab": {
      "provenance": []
    },
    "kernelspec": {
      "name": "python3",
      "display_name": "Python 3"
    },
    "language_info": {
      "name": "python"
    }
  },
  "cells": [
    {
      "cell_type": "code",
      "execution_count": 3,
      "metadata": {
        "colab": {
          "base_uri": "https://localhost:8080/"
        },
        "id": "gALdhK-0nHYL",
        "outputId": "2dfd0a35-dd6b-4b16-ce27-7919d18dd4f4"
      },
      "outputs": [
        {
          "output_type": "stream",
          "name": "stdout",
          "text": [
            "Enter a number upto which fibonacci series is to be generated: 10\n",
            "Fibonacci series up to 10 is:\n",
            "[0, 1, 1, 2, 3, 5, 8]\n"
          ]
        }
      ],
      "source": [
        "def fibo(n):\n",
        "    fibonacci = [0, 1]\n",
        "\n",
        "    while fibonacci[-1] + fibonacci[-2] <= n:\n",
        "        next = fibonacci[-1] + fibonacci[-2]\n",
        "        fibonacci.append(next)\n",
        "    return fibonacci\n",
        "\n",
        "range = int(input(\"Enter a number upto which fibonacci series is to be generated: \"))\n",
        "\n",
        "fibonacci = fibo(range)\n",
        "\n",
        "print(f\"Fibonacci series up to {range} is:\")\n",
        "print(fibonacci)"
      ]
    }
  ]
}