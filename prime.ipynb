{
  "cells": [
    {
      "cell_type": "code",
      "source": [
        "def is_prime():\n",
        "    start=int(input(\"Enter the start of range\"))\n",
        "    end=int(input(\"Enter the end of range\"))\n",
        "\n",
        "\n",
        "    i=0\n",
        "    j=0\n",
        "    for j in range(start,end):\n",
        "        y=0\n",
        "        i=0\n",
        "        for i in range(1,j):\n",
        "            if j%i==0:\n",
        "                y=y+1\n",
        "\n",
        "        if y<2:\n",
        "            print(j)\n",
        "\n",
        "\n",
        "is_prime()"
      ],
      "metadata": {
        "colab": {
          "base_uri": "https://localhost:8080/"
        },
        "id": "uoTAI6JWvuD5",
        "outputId": "a44b8ce0-69e2-437b-8539-3c74f41c8d08"
      },
      "execution_count": 1,
      "outputs": [
        {
          "output_type": "stream",
          "name": "stdout",
          "text": [
            "Enter the start of range1\n",
            "Enter the end of range10\n",
            "1\n",
            "2\n",
            "3\n",
            "5\n",
            "7\n"
          ]
        }
      ]
    }
  ],
  "metadata": {
    "colab": {
      "name": "Welcome To Colaboratory",
      "provenance": []
    },
    "kernelspec": {
      "display_name": "Python 3",
      "name": "python3"
    }
  },
  "nbformat": 4,
  "nbformat_minor": 0
}